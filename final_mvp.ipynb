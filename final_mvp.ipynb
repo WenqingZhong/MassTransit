{
 "cells": [
  {
   "cell_type": "markdown",
   "metadata": {},
   "source": [
    "# Stay Subway Safe\n",
    "**How to use this notebook**\n",
    "\n",
    "Please read through the text interspersed throughout the code. We explain the logic behind each step as you walk through the program.\n",
    "\n",
    "We have already printed out the results of each cell, so there is no need to re-run cells. However, if you would like to run the code yourself please change file paths to match where you have downloaded the necessary files (both in this notebook and in algorithm.py)\n",
    "\n",
    "Thank you!\n",
    "\n",
    "Stay Subway Safe team\n",
    "\n",
    "## Front End - Interface\n",
    "To interact with our wireframe (made with JustInMind), click here: https://www.justinmind.com/usernote/tests/47687661/47738106/47746104/index.html\n",
    "\n",
    "Alternatively, check out the demo video in our Google Drive submission folder.\n",
    "\n",
    "## Backend, with logic explanations"
   ]
  },
  {
   "cell_type": "markdown",
   "metadata": {},
   "source": [
    "### User input\n",
    "**These variable are defined by user input**, as depicted in wireframe.\n",
    "\n",
    "For this demonstration, values are hard coded and we assume the user wants to know what is happening NOW. Feel free to play with the values here, but remember to modify file paths if you rerun the code."
   ]
  },
  {
   "cell_type": "code",
   "execution_count": 48,
   "metadata": {},
   "outputs": [],
   "source": [
    "from datetime import datetime, date, time\n",
    "import numpy as np"
   ]
  },
  {
   "cell_type": "code",
   "execution_count": 49,
   "metadata": {},
   "outputs": [],
   "source": [
    "station = \"96 ST\"\n",
    "trainline = \"1\"\n",
    "date = datetime.date(datetime.now())\n",
    "time = datetime.time(datetime.now())"
   ]
  },
  {
   "cell_type": "markdown",
   "metadata": {},
   "source": [
    "### Gather necessary data to fulfill request"
   ]
  },
  {
   "cell_type": "code",
   "execution_count": 50,
   "metadata": {},
   "outputs": [],
   "source": [
    "import os\n",
    "import sys\n",
    "sys.path.insert(0, os.path.abspath(r'C:\\Users\\Raayan\\Documents\\GitHub\\MassTransit'))\n",
    "# r'/Users/mehrkaur/Documents/projects/subway/MassTransit'"
   ]
  },
  {
   "cell_type": "code",
   "execution_count": 51,
   "metadata": {},
   "outputs": [],
   "source": [
    "from get_station_csv import get_final_station_data\n",
    "from sort_by_week_day import sort_all_days\n",
    "from h4_chunks_in_py import entries_exits_in_4h_chunks"
   ]
  },
  {
   "cell_type": "markdown",
   "metadata": {},
   "source": [
    "We scrape the most recent week's data for this requested station..."
   ]
  },
  {
   "cell_type": "code",
   "execution_count": 52,
   "metadata": {},
   "outputs": [],
   "source": [
    "get_final_station_data(1, station, trainline)"
   ]
  },
  {
   "cell_type": "markdown",
   "metadata": {},
   "source": [
    "...then sort that data by day of the week and create individual csv files."
   ]
  },
  {
   "cell_type": "code",
   "execution_count": 55,
   "metadata": {},
   "outputs": [],
   "source": [
    "sort_all_days(station)"
   ]
  },
  {
   "cell_type": "markdown",
   "metadata": {},
   "source": [
    "If the user's requested day is a weekday, the prediction will be based on average crowd size across all weekdays from the previous week during the requested time window. This mitigates the impact of anomolies from the previous week on the prediction. \n",
    "\n",
    "If the user requests info for a Saturday or Sunday, we look specifically at the previous Saturday or Sunday. This is because the MTA runs fewer trains on Sundays than other days of the week, and ridership differs significantly on each of these days."
   ]
  },
  {
   "cell_type": "code",
   "execution_count": 56,
   "metadata": {},
   "outputs": [],
   "source": [
    "requestedDay = date.weekday()\n",
    "weekDays = (\"Mon\",\"Tue\",\"Wed\",\"Thu\",\"Fri\",\"Sat\",\"Sun\")"
   ]
  },
  {
   "cell_type": "markdown",
   "metadata": {},
   "source": [
    "We use our other modules to get the number of train arrivals and number of turnstile entries per hour.\n",
    "\n",
    "Train arrivals are specific to the day of the week but not the date. we will get this value now so that we don't have to call it multiple times in the loop below. However, turnstile entries are date specific, so we will call when we need it."
   ]
  },
  {
   "cell_type": "code",
   "execution_count": 57,
   "metadata": {},
   "outputs": [],
   "source": [
    "from train_info_from_schedule import single_frequency\n",
    "from entries_exits import get_entry_exit_given_hour"
   ]
  },
  {
   "cell_type": "code",
   "execution_count": 58,
   "metadata": {},
   "outputs": [],
   "source": [
    "stops_path = r'C:\\Users\\Raayan\\Documents\\GitHub\\MassTransit\\google_transit\\stop_times.txt'#r'/Users/mehrkaur/Documents/projects/subway/MassTransit/google_transit/stop_times.txt'\n",
    "trips_path = r'C:\\Users\\Raayan\\Documents\\GitHub\\MassTransit\\google_transit\\trips.txt'#r'/Users/mehrkaur/Documents/projects/subway/MassTransit/google_transit/trips.txt'\n",
    "stop_id = \"120\" #HARDCODED for 96th, our pilot\n",
    "\n",
    "#train schedule is recorded only between 6 am ('06') and 11 pm ('23') to make room for cleaning\n",
    "#also, time needs to be formatted to have 2 digits\n",
    "hourINT = time.hour\n",
    "if (hourINT < 6):\n",
    "    hour = \"06\"\n",
    "elif (hourINT > 23):\n",
    "    hour = \"23\"\n",
    "elif (hourINT < 10):\n",
    "    hour = \"0\" + str(hourINT)\n",
    "else:\n",
    "    hour = str(hourINT)\n",
    "\n",
    "#train schedule data is split into weekday, Saturday, Sunday\n",
    "if(requestedDay <= 4):\n",
    "    day_type = \"Weekday\"\n",
    "elif(requestedDay == 5):\n",
    "    day_type = \"Saturday\"\n",
    "else:\n",
    "    day_type = \"Sunday\"\n",
    "\n",
    "\n",
    "\n",
    "northTrains = single_frequency(stops_path,trips_path,stop_id,hour,day_type,\"Northbound\")\n",
    "southTrains = single_frequency(stops_path,trips_path,stop_id,hour,day_type,\"Southbound\")\n",
    "\n",
    "trainsPerPlatform = np.array([northTrains, southTrains])\n",
    "\n",
    "#the red section below is not an error. It is a warning related to accessing files in your computer (but don't worry about it)"
   ]
  },
  {
   "cell_type": "markdown",
   "metadata": {},
   "source": [
    "We reformat time as needed to get turnstile entry information below.\n",
    "\n",
    "time_input should be in 24 hr hh:mm "
   ]
  },
  {
   "cell_type": "code",
   "execution_count": 60,
   "metadata": {},
   "outputs": [],
   "source": [
    "mins = str(time.minute)\n",
    "if(len(mins) == 1):\n",
    "    mins = \"0\" + mins\n",
    "\n",
    "time_input = hour + \":\" + mins\n",
    "\n",
    "#our turnstile data is available from 06:00 - 20:59\n",
    "#we already account for 06:00 bound above, we need to now account for 20:59 bound here.\n",
    "if(hourINT > 20):\n",
    "    time_input = \"20:59\""
   ]
  },
  {
   "cell_type": "markdown",
   "metadata": {},
   "source": [
    "### The meat and potatoes: The Algorithm\n",
    "\n",
    "1) totalEntries = get total station entries in that time chunk\n",
    "\n",
    "2) entriesPerPlatform = totalEntries / # of platforms\n",
    "\n",
    "3) trainsPerPlatform = a list of the number of trains arriving to each relavent platform in the time window\n",
    "\n",
    "4) predictedCrowds = entriesPerPlatform / trainsPerPlatform \n",
    "    a list of max crowd size for each platform\n",
    "    \n",
    "5) return predictedCrowds to interface\n",
    "\n",
    "This algorithm tells the user how large, on average, crowd size becomes before the train arrives.\n"
   ]
  },
  {
   "cell_type": "markdown",
   "metadata": {},
   "source": [
    "96th street has 2 in service island platforms https://en.wikipedia.org/wiki/96th_Street_station_(IRT_Broadway%E2%80%93Seventh_Avenue_Line) \n",
    "We hardcode this value for the pilot program"
   ]
  },
  {
   "cell_type": "code",
   "execution_count": 61,
   "metadata": {},
   "outputs": [],
   "source": [
    "totalEntries = 0\n",
    "totalExits = 0 #throw-away value\n",
    "predictedCrowds = np.array([0,0]) #HARDCODED for 96th. 2 platforms, 2 crowd predictions.\n",
    "\n",
    "if(requestedDay <= 4): #is a work day\n",
    "    sumCrowds = np.array([0,0]) #HARDCODED for 96\n",
    "    for i in range (0,5):\n",
    "        filename = weekDays[i] + \".csv\"\n",
    "        path = r'C:/Users/Raayan/Documents/GitHub/MassTransit/'+filename #r\"/Users/mehrkaur/Documents/projects/subway/MassTransit/\" + filename\n",
    "        totalEntries, totalExits = get_entry_exit_given_hour(path,time_input) \n",
    "        if(station == '96 ST'): #currently we are only working with one sheet\n",
    "            entriesPerPlatform = (totalEntries / 2) + totalExits #HARDCODED, num. platforms at 96th, and transfer split\n",
    "\n",
    "            tempCrowds = entriesPerPlatform / trainsPerPlatform\n",
    "            sumCrowds = sumCrowds + tempCrowds\n",
    "        \n",
    "        else:\n",
    "            entriesPerPlatform = totalEntries / 2 #HARDCODED, num. platforms at non-transfer stations\n",
    "\n",
    "            tempCrowds = entriesPerPlatform / trainsPerPlatform\n",
    "            sumCrowds = sumCrowds + tempCrowds\n",
    "\n",
    "    predictedCrowds = sumCrowds / 5 #avg over 5 work days\n",
    "         \n",
    "else: #is weekend\n",
    "    filename = weekDays[requestedDay] + \".csv\"\n",
    "    path = r'C:/Users/Raayan/Documents/GitHub/MassTransit/' + filename #'/Users/mehrkaur/Documents/projects/subway/MassTransit/' + filename\n",
    "    totalEntries, totalExits = get_entry_exit_given_hour(path,time_input)\n",
    "    entriesPerPlatform = totalEntries / 2 #HARDCODED, num. platforms at 96th\n",
    "\n",
    "    predictedCrowds = entriesPerPlatform / trainsPerPlatform"
   ]
  },
  {
   "cell_type": "code",
   "execution_count": 62,
   "metadata": {
    "scrolled": true
   },
   "outputs": [
    {
     "name": "stdout",
     "output_type": "stream",
     "text": [
      "638.5\n",
      "[34.676 34.676]\n"
     ]
    }
   ],
   "source": [
    "print(totalEntries)\n",
    "print(predictedCrowds)"
   ]
  },
  {
   "cell_type": "markdown",
   "metadata": {},
   "source": [
    "predictedCrowds is the return value of the algorithm"
   ]
  },
  {
   "cell_type": "markdown",
   "metadata": {},
   "source": [
    "### Grader\n",
    "Color codes the returned crowd size depending on the size of the selected platforms.\n",
    "\n",
    "risk level 1 = green | 2 = yellow | 3 = orange | 4 = red"
   ]
  },
  {
   "cell_type": "code",
   "execution_count": 13,
   "metadata": {},
   "outputs": [],
   "source": [
    "platformDensities = np.array([0,0])\n",
    "platform_length = 510\n",
    "platform_width = 12.5\n",
    "platform_size = (platform_length * platform_width) / 2 #assume half the platform is unusable space (walls, stairs, etc)\n",
    "if (predictedCrowds.size != 0):\n",
    "    #length = len(predictedCrowds)\n",
    "    platformDensities = np.array([0,0]) #HARDCODED, 2 platforms in 96th = 2 elements\n",
    "    for i in range(0,predictedCrowds.size):\n",
    "        if predictedCrowds[i]: \n",
    "            density = platform_size / predictedCrowds[i] #square feet per person\n",
    "        else: density = 0\n",
    "        platformDensities[i] = density\n",
    "else: platformDensities = predictedCrowds\n",
    "\n",
    "platformGrades = np.array([\"0\",\"0\"]) #0 represents no data\n",
    "green = 64 #at least 8 feet per person in all directions\n",
    "yellow = 36 #at least 6 feet (CDC recommendation) \n",
    "orange = 16 #at least 4 feet \n",
    "if (platformDensities.size != 0):\n",
    "    #length = len(platformDensities)\n",
    "    platformGrades = np.array([0,0])\n",
    "    for i in range(0,platformDensities.size):\n",
    "        if platformDensities[i]:\n",
    "            if(platformDensities[i] >= green):\n",
    "                platformGrades[i] = 1\n",
    "            elif(platformDensities[i] >= yellow):\n",
    "                platformGrades[i] = 2\n",
    "            elif(platformDensities[i] >= orange):\n",
    "                platformGrades[i] = 3\n",
    "            else:\n",
    "                platformGrades[i] = 4\n",
    "                \n",
    "        else: platformGrades[i] = 0"
   ]
  },
  {
   "cell_type": "markdown",
   "metadata": {},
   "source": [
    "## Evidence of functionality"
   ]
  },
  {
   "cell_type": "markdown",
   "metadata": {},
   "source": [
    "We hope you enjoyed that code walk through! \n",
    "\n",
    "All of our code was also formatted as .py modules. We demonstrate how they come together below with examples from our pilot program."
   ]
  },
  {
   "cell_type": "code",
   "execution_count": 14,
   "metadata": {},
   "outputs": [],
   "source": [
    "import matplotlib.pyplot as plt\n",
    "%matplotlib inline"
   ]
  },
  {
   "cell_type": "code",
   "execution_count": 15,
   "metadata": {},
   "outputs": [],
   "source": [
    "from algorithm import get_crowds, grade_crowds"
   ]
  },
  {
   "cell_type": "markdown",
   "metadata": {},
   "source": [
    "### Visualization of crowd size over types of days\n",
    "Our categories are Weekday, Saturday, and Sunday as discussed above.\n",
    "\n",
    "**Graph information:**\n",
    "\n",
    "- x-axis = time in hours (6 is 6am, 20 is 8pm)\n",
    "- y-axis = number of people predicted on the platform\n",
    "    - note: these numbers are especially low now because ridership is down to 25% (see final slide deck)\n",
    "- legend: orange = southbound platform | blue = northbound platform\n"
   ]
  },
  {
   "cell_type": "code",
   "execution_count": 16,
   "metadata": {},
   "outputs": [],
   "source": [
    "#get 96 St info\n",
    "station = \"96 ST\"\n",
    "trainline = \"1\"\n",
    "date = datetime.date(datetime.now())\n",
    "time = datetime.time(datetime.now())\n",
    "get_final_station_data(1, station, trainline)\n",
    "sort_all_days(station)"
   ]
  },
  {
   "cell_type": "code",
   "execution_count": 17,
   "metadata": {},
   "outputs": [
    {
     "name": "stderr",
     "output_type": "stream",
     "text": [
      "C:\\Users\\Raayan\\Documents\\GitHub\\MassTransit\\train_info_from_schedule.py:67: SettingWithCopyWarning: \n",
      "A value is trying to be set on a copy of a slice from a DataFrame\n",
      "\n",
      "See the caveats in the documentation: http://pandas.pydata.org/pandas-docs/stable/user_guide/indexing.html#returning-a-view-versus-a-copy\n",
      "  source['hour_of_day'][item]=source['arrival_time'][item][:2]\n",
      "C:\\Users\\Raayan\\Documents\\GitHub\\MassTransit\\entries_exits.py:23: SettingWithCopyWarning: \n",
      "A value is trying to be set on a copy of a slice from a DataFrame.\n",
      "Try using .loc[row_indexer,col_indexer] = value instead\n",
      "\n",
      "See the caveats in the documentation: http://pandas.pydata.org/pandas-docs/stable/user_guide/indexing.html#returning-a-view-versus-a-copy\n",
      "  item['ENTRIES']=entries\n",
      "C:\\Users\\Raayan\\Documents\\GitHub\\MassTransit\\entries_exits.py:26: SettingWithCopyWarning: \n",
      "A value is trying to be set on a copy of a slice from a DataFrame.\n",
      "Try using .loc[row_indexer,col_indexer] = value instead\n",
      "\n",
      "See the caveats in the documentation: http://pandas.pydata.org/pandas-docs/stable/user_guide/indexing.html#returning-a-view-versus-a-copy\n",
      "  item[item.columns[11]]=exits\n"
     ]
    }
   ],
   "source": [
    "#Weekday 96th\n",
    "from datetime import time\n",
    "time1=time(6,0,0)\n",
    "time_list=[]\n",
    "time_list.append(time1)\n",
    "for i in range(1,15):\n",
    "    time_list.append(time(6+i,0,0))\n",
    "weekday_crowds=[get_crowds(date,time,'120','96 ST') for time in time_list]\n",
    "\n"
   ]
  },
  {
   "cell_type": "code",
   "execution_count": 18,
   "metadata": {},
   "outputs": [
    {
     "data": {
      "text/plain": [
       "[<matplotlib.lines.Line2D at 0x25d335dc788>]"
      ]
     },
     "execution_count": 18,
     "metadata": {},
     "output_type": "execute_result"
    },
    {
     "data": {
      "image/png": "[encoded data removed]",
      "text/plain": [
       "<Figure size 432x288 with 1 Axes>"
      ]
     },
     "metadata": {
      "needs_background": "light"
     },
     "output_type": "display_data"
    }
   ],
   "source": [
    "#Weekday forecasts for 96th Street station\n",
    "entry_forecasts=[]\n",
    "northbound_forecasts=[]\n",
    "southbound_forecasts=[]\n",
    "for item in weekday_crowds:\n",
    "    entry_forecasts.append(item[0])\n",
    "    northbound_forecasts.append(item[1][0])\n",
    "    southbound_forecasts.append(item[1][1])\n",
    "x_axis=[6,7,8,9,10,11,12,13,14,15,16,17,18,19,20]\n",
    "plt.plot(x_axis,northbound_forecasts)\n",
    "plt.plot(x_axis,southbound_forecasts)"
   ]
  },
  {
   "cell_type": "code",
   "execution_count": 19,
   "metadata": {},
   "outputs": [],
   "source": [
    "#Sunday 96th St\n",
    "from datetime import date,time\n",
    "time1=time(6,0,0)\n",
    "time_list=[]\n",
    "time_list.append(time1)\n",
    "for i in range(1,15):\n",
    "    time_list.append(time(6+i,0,0))\n",
    "date=date(2020,7,26)\n",
    "sunday_crowds=[get_crowds(date,time,'120','96 ST') for time in time_list]"
   ]
  },
  {
   "cell_type": "code",
   "execution_count": 20,
   "metadata": {},
   "outputs": [
    {
     "data": {
      "text/plain": [
       "[<matplotlib.lines.Line2D at 0x25d335dbf08>]"
      ]
     },
     "execution_count": 20,
     "metadata": {},
     "output_type": "execute_result"
    },
    {
     "data": {
      "image/png": "[encoded data removed]",
      "text/plain": [
       "<Figure size 432x288 with 1 Axes>"
      ]
     },
     "metadata": {
      "needs_background": "light"
     },
     "output_type": "display_data"
    }
   ],
   "source": [
    "#Sunday forecasts for 96th street station\n",
    "entry_forecasts=[]\n",
    "northbound_forecasts=[]\n",
    "southbound_forecasts=[]\n",
    "for item in sunday_crowds:\n",
    "    entry_forecasts.append(item[0])\n",
    "    northbound_forecasts.append(item[1][0])\n",
    "    southbound_forecasts.append(item[1][1])\n",
    "x_axis=[6,7,8,9,10,11,12,13,14,15,16,17,18,19,20]\n",
    "plt.plot(x_axis,northbound_forecasts)\n",
    "plt.plot(x_axis,southbound_forecasts)"
   ]
  },
  {
   "cell_type": "code",
   "execution_count": 21,
   "metadata": {},
   "outputs": [],
   "source": [
    "#Saturday 96 St\n",
    "from datetime import date,time\n",
    "from datetime import date,time\n",
    "time1=time(6,0,0)\n",
    "time_list=[]\n",
    "time_list.append(time1)\n",
    "for i in range(1,15):\n",
    "    time_list.append(time(6+i,0,0))\n",
    "date=date(2020,7,25)\n",
    "saturday_crowds=[get_crowds(date,time,'120','96 ST') for time in time_list]"
   ]
  },
  {
   "cell_type": "code",
   "execution_count": 22,
   "metadata": {},
   "outputs": [
    {
     "data": {
      "text/plain": [
       "[<matplotlib.lines.Line2D at 0x25d338c2408>]"
      ]
     },
     "execution_count": 22,
     "metadata": {},
     "output_type": "execute_result"
    },
    {
     "data": {
      "image/png": "[encoded data removed]",
      "text/plain": [
       "<Figure size 432x288 with 1 Axes>"
      ]
     },
     "metadata": {
      "needs_background": "light"
     },
     "output_type": "display_data"
    }
   ],
   "source": [
    "#Saturday forecasts for 96th street station\n",
    "entry_forecasts=[]\n",
    "northbound_forecasts=[]\n",
    "southbound_forecasts=[]\n",
    "for item in saturday_crowds:\n",
    "    entry_forecasts.append(item[0])\n",
    "    northbound_forecasts.append(item[1][0])\n",
    "    southbound_forecasts.append(item[1][1])\n",
    "x_axis=[6,7,8,9,10,11,12,13,14,15,16,17,18,19,20]\n",
    "plt.plot(x_axis,northbound_forecasts)\n",
    "plt.plot(x_axis,southbound_forecasts)"
   ]
  },
  {
   "cell_type": "code",
   "execution_count": 23,
   "metadata": {},
   "outputs": [],
   "source": [
    "#Change the CSV files to 116 St info\n",
    "get_final_station_data(1, '116 ST-COLUMBIA', '1')\n",
    "sort_all_days('116 ST-COLUMBIA')"
   ]
  },
  {
   "cell_type": "code",
   "execution_count": 24,
   "metadata": {},
   "outputs": [],
   "source": [
    "#Weekday, 116th Street\n",
    "from datetime import date,time\n",
    "time1=time(6,0,0)\n",
    "time_list=[]\n",
    "time_list.append(time1)\n",
    "for i in range(1,15):\n",
    "    time_list.append(time(6+i,0,0))\n",
    "date=datetime.date(datetime.now())\n",
    "weekday_crowds=[get_crowds(date,time,'117','116 ST-COLUMBIA') for time in time_list]"
   ]
  },
  {
   "cell_type": "code",
   "execution_count": 25,
   "metadata": {},
   "outputs": [
    {
     "data": {
      "text/plain": [
       "[<matplotlib.lines.Line2D at 0x25d33a1d1c8>]"
      ]
     },
     "execution_count": 25,
     "metadata": {},
     "output_type": "execute_result"
    },
    {
     "data": {
      "image/png": "[encoded data removed]",
      "text/plain": [
       "<Figure size 432x288 with 1 Axes>"
      ]
     },
     "metadata": {
      "needs_background": "light"
     },
     "output_type": "display_data"
    }
   ],
   "source": [
    "#Weekday for 116th street station\n",
    "entry_forecasts=[]\n",
    "northbound_forecasts=[]\n",
    "southbound_forecasts=[]\n",
    "for item in weekday_crowds:\n",
    "    entry_forecasts.append(item[0])\n",
    "    northbound_forecasts.append(item[1][0])\n",
    "    southbound_forecasts.append(item[1][1])\n",
    "x_axis=[6,7,8,9,10,11,12,13,14,15,16,17,18,19,20]\n",
    "plt.plot(x_axis,northbound_forecasts)\n",
    "plt.plot(x_axis,southbound_forecasts)"
   ]
  },
  {
   "cell_type": "code",
   "execution_count": 26,
   "metadata": {},
   "outputs": [],
   "source": [
    "#Sunday, 116th Street\n",
    "from datetime import date,time\n",
    "time1=time(6,0,0)\n",
    "time_list=[]\n",
    "time_list.append(time1)\n",
    "for i in range(1,15):\n",
    "    time_list.append(time(6+i,0,0))\n",
    "date=date(2020,7,26)\n",
    "sunday_crowds=[get_crowds(date,time,'117','116 ST-COLUMBIA') for time in time_list]"
   ]
  },
  {
   "cell_type": "code",
   "execution_count": 27,
   "metadata": {},
   "outputs": [
    {
     "data": {
      "text/plain": [
       "[<matplotlib.lines.Line2D at 0x25d333e3b48>]"
      ]
     },
     "execution_count": 27,
     "metadata": {},
     "output_type": "execute_result"
    },
    {
     "data": {
      "image/png": "[encoded data removed]",
      "text/plain": [
       "<Figure size 432x288 with 1 Axes>"
      ]
     },
     "metadata": {
      "needs_background": "light"
     },
     "output_type": "display_data"
    }
   ],
   "source": [
    "#Weekday for 116th street station\n",
    "entry_forecasts=[]\n",
    "northbound_forecasts=[]\n",
    "southbound_forecasts=[]\n",
    "for item in sunday_crowds:\n",
    "    entry_forecasts.append(item[0])\n",
    "    northbound_forecasts.append(item[1][0])\n",
    "    southbound_forecasts.append(item[1][1])\n",
    "x_axis=[6,7,8,9,10,11,12,13,14,15,16,17,18,19,20]\n",
    "plt.plot(x_axis,northbound_forecasts)\n",
    "plt.plot(x_axis,southbound_forecasts)"
   ]
  },
  {
   "cell_type": "code",
   "execution_count": 28,
   "metadata": {},
   "outputs": [],
   "source": [
    "#Saturday, 116th Street\n",
    "from datetime import date,time\n",
    "time1=time(6,0,0)\n",
    "time_list=[]\n",
    "time_list.append(time1)\n",
    "for i in range(1,15):\n",
    "    time_list.append(time(6+i,0,0))\n",
    "date=date(2020,7,25)\n",
    "saturday_crowds=[get_crowds(date,time,'117','116 ST-COLUMBIA') for time in time_list]\n"
   ]
  },
  {
   "cell_type": "code",
   "execution_count": 29,
   "metadata": {},
   "outputs": [
    {
     "data": {
      "text/plain": [
       "[<matplotlib.lines.Line2D at 0x25d335e8548>]"
      ]
     },
     "execution_count": 29,
     "metadata": {},
     "output_type": "execute_result"
    },
    {
     "data": {
      "image/png": "[encoded data removed]",
      "text/plain": [
       "<Figure size 432x288 with 1 Axes>"
      ]
     },
     "metadata": {
      "needs_background": "light"
     },
     "output_type": "display_data"
    }
   ],
   "source": [
    "#Saturday for 116th street station\n",
    "entry_forecasts=[]\n",
    "northbound_forecasts=[]\n",
    "southbound_forecasts=[]\n",
    "for item in saturday_crowds:\n",
    "    entry_forecasts.append(item[0])\n",
    "    northbound_forecasts.append(item[1][0])\n",
    "    southbound_forecasts.append(item[1][1])\n",
    "x_axis=[6,7,8,9,10,11,12,13,14,15,16,17,18,19,20]\n",
    "plt.plot(x_axis,northbound_forecasts)\n",
    "plt.plot(x_axis,southbound_forecasts)"
   ]
  },
  {
   "cell_type": "markdown",
   "metadata": {},
   "source": [
    "### Crowd size on individual platforms throughout the day\n",
    "(Hardcoded values for demonstration)\n",
    "\n",
    "We will look at predictions throughout the day on Tuesday, July 28, 2020.\n",
    "\n",
    "If you are looking at this document after the week of July 28, 2020 and would like to play with the code, please update the date to a date in your current week. This is because our algorithm is based on ridership the week prior to requested date, so the necessary data will have become unavailable."
   ]
  },
  {
   "cell_type": "markdown",
   "metadata": {},
   "source": [
    "**At 6 am:**"
   ]
  },
  {
   "cell_type": "code",
   "execution_count": 39,
   "metadata": {},
   "outputs": [
    {
     "name": "stdout",
     "output_type": "stream",
     "text": [
      "There are 10.436538461538461 people on the Northbound platform.\n",
      "The Northbound platform is at risk level 4.\n",
      "There are 6.78375 people on the Southbound platform.\n",
      "The Southbound platform is at risk level 4.\n"
     ]
    }
   ],
   "source": [
    "from datetime import date,time\n",
    "dateRequest = date(2020,7,28)\n",
    "\n",
    "timeRequest = time(6,0,0)\n",
    "entries, crowdSize = get_crowds(dateRequest,timeRequest,'120','96 ST')\n",
    "crowdRank = grade_crowds(crowdSize)\n",
    "\n",
    "print(\"There are \" + str(crowdSize[0]) + \" people on the Northbound platform.\")\n",
    "print(\"The Northbound platform is at risk level \" + str(crowdRank[0]) + \".\")\n",
    "print(\"There are \" + str(crowdSize[1]) + \" people on the Southbound platform.\")\n",
    "print(\"The Southbound platform is at risk level \" + str(crowdRank[1]) + \".\")"
   ]
  },
  {
   "cell_type": "markdown",
   "metadata": {},
   "source": [
    "**At 8 am:**"
   ]
  },
  {
   "cell_type": "code",
   "execution_count": 33,
   "metadata": {},
   "outputs": [
    {
     "name": "stdout",
     "output_type": "stream",
     "text": [
      "There are 4.845535714285715 people on the Northbound platform.\n",
      "The Northbound platform is at risk level 4.\n",
      "There are 3.478846153846154 people on the Southbound platform.\n",
      "The Southbound platform is at risk level 4.\n"
     ]
    }
   ],
   "source": [
    "timeRequest = time(8,0,0)\n",
    "entries, crowdSize = get_crowds(dateRequest,timeRequest,'120','96 ST')\n",
    "crowdRank = grade_crowds(crowdSize)\n",
    "\n",
    "print(\"There are \" + str(crowdSize[0]) + \" people on the Northbound platform.\")\n",
    "print(\"The Northbound platform is at risk level \" + str(crowdRank[0]) + \".\")\n",
    "print(\"There are \" + str(crowdSize[1]) + \" people on the Southbound platform.\")\n",
    "print(\"The Southbound platform is at risk level \" + str(crowdRank[1]) + \".\")"
   ]
  },
  {
   "cell_type": "markdown",
   "metadata": {},
   "source": [
    "**At 12 pm:**"
   ]
  },
  {
   "cell_type": "code",
   "execution_count": 34,
   "metadata": {},
   "outputs": [
    {
     "name": "stdout",
     "output_type": "stream",
     "text": [
      "There are 3.582692307692308 people on the Northbound platform.\n",
      "The Northbound platform is at risk level 4.\n",
      "There are 3.726 people on the Southbound platform.\n",
      "The Southbound platform is at risk level 4.\n"
     ]
    }
   ],
   "source": [
    "timeRequest = time(12,0,0)\n",
    "entries, crowdSize = get_crowds(dateRequest,timeRequest,'120','96 ST')\n",
    "crowdRank = grade_crowds(crowdSize)\n",
    "\n",
    "print(\"There are \" + str(crowdSize[0]) + \" people on the Northbound platform.\")\n",
    "print(\"The Northbound platform is at risk level \" + str(crowdRank[0]) + \".\")\n",
    "print(\"There are \" + str(crowdSize[1]) + \" people on the Southbound platform.\")\n",
    "print(\"The Southbound platform is at risk level \" + str(crowdRank[1]) + \".\")"
   ]
  },
  {
   "cell_type": "markdown",
   "metadata": {},
   "source": [
    "**At 4 pm:**"
   ]
  },
  {
   "cell_type": "code",
   "execution_count": 40,
   "metadata": {},
   "outputs": [
    {
     "name": "stdout",
     "output_type": "stream",
     "text": [
      "There are 5.213392857142857 people on the Northbound platform.\n",
      "The Northbound platform is at risk level 4.\n",
      "There are 4.56171875 people on the Southbound platform.\n",
      "The Southbound platform is at risk level 4.\n"
     ]
    }
   ],
   "source": [
    "timeRequest = time(16,0,0)\n",
    "entries, crowdSize = get_crowds(dateRequest,timeRequest,'120','96 ST')\n",
    "crowdRank = grade_crowds(crowdSize)\n",
    "\n",
    "print(\"There are \" + str(crowdSize[0]) + \" people on the Northbound platform.\")\n",
    "print(\"The Northbound platform is at risk level \" + str(crowdRank[0]) + \".\")\n",
    "print(\"There are \" + str(crowdSize[1]) + \" people on the Southbound platform.\")\n",
    "print(\"The Southbound platform is at risk level \" + str(crowdRank[1]) + \".\")"
   ]
  },
  {
   "cell_type": "markdown",
   "metadata": {},
   "source": [
    "**At 12 pm:**"
   ]
  },
  {
   "cell_type": "code",
   "execution_count": 41,
   "metadata": {},
   "outputs": [
    {
     "name": "stdout",
     "output_type": "stream",
     "text": [
      "There are 2.9241666666666672 people on the Northbound platform.\n",
      "The Northbound platform is at risk level 4.\n",
      "There are 3.133035714285714 people on the Southbound platform.\n",
      "The Southbound platform is at risk level 4.\n"
     ]
    }
   ],
   "source": [
    "timeRequest = time(20,0,0)\n",
    "entries, crowdSize = get_crowds(dateRequest,timeRequest,'120','96 ST')\n",
    "crowdRank = grade_crowds(crowdSize)\n",
    "\n",
    "print(\"There are \" + str(crowdSize[0]) + \" people on the Northbound platform.\")\n",
    "print(\"The Northbound platform is at risk level \" + str(crowdRank[0]) + \".\")\n",
    "print(\"There are \" + str(crowdSize[1]) + \" people on the Southbound platform.\")\n",
    "print(\"The Southbound platform is at risk level \" + str(crowdRank[1]) + \".\")"
   ]
  }
 ],
 "metadata": {
  "kernelspec": {
   "display_name": "Python 3",
   "language": "python",
   "name": "python3"
  },
  "language_info": {
   "codemirror_mode": {
    "name": "ipython",
    "version": 3
   },
   "file_extension": ".py",
   "mimetype": "text/x-python",
   "name": "python",
   "nbconvert_exporter": "python",
   "pygments_lexer": "ipython3",
   "version": "3.8.5"
  }
 },
 "nbformat": 4,
 "nbformat_minor": 2
}
