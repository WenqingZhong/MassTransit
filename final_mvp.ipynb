{
 "cells": [
  {
   "cell_type": "markdown",
   "metadata": {},
   "source": [
    "# Stay Subway Safe\n",
    "\n",
    "## Interface\n",
    "To interact with our wireframe (made with JustInMind), click here: https://www.justinmind.com/usernote/tests/47687661/47738106/47746104/index.html\n",
    "\n",
    "## Algorithm and Explanation"
   ]
  },
  {
   "cell_type": "markdown",
   "metadata": {},
   "source": [
    "These variable are defined by user input, as depicted in wireframe.\n",
    "\n",
    "For this demonstration, values are hard coded and we assume the user wants to know what is happening NOW."
   ]
  },
  {
   "cell_type": "code",
   "execution_count": 1,
   "metadata": {},
   "outputs": [],
   "source": [
    "from datetime import datetime"
   ]
  },
  {
   "cell_type": "code",
   "execution_count": 2,
   "metadata": {},
   "outputs": [],
   "source": [
    "station = \"96 ST\"\n",
    "trainline = \"1\"\n",
    "date = datetime.date(datetime.now())\n",
    "time = datetime.time(datetime.now())"
   ]
  },
  {
   "cell_type": "markdown",
   "metadata": {},
   "source": [
    "We then gather the data necessary to fulfil the user's request"
   ]
  },
  {
   "cell_type": "markdown",
   "metadata": {},
   "source": [
    "#sort_by_week_day are not continuous, so call entries_exits_in_4h_chunks(filename,False)\n",
    "STATION_CSV_DATA.get_final_station_data(url,1,\"96 ST\")\n",
    "sort_by_weekday.sort_all_days(\"96 ST\")\n",
    "entries_exits_in_4h_chunks(filename,False)\n"
   ]
  },
  {
   "cell_type": "code",
   "execution_count": 3,
   "metadata": {},
   "outputs": [],
   "source": [
    "import os\n",
    "import sys\n",
    "sys.path.insert(0, os.path.abspath('/Users/mehrkaur/Documents/projects/subway/MassTransit')) #ASK WENQING IF THERES A BETTER WAY"
   ]
  },
  {
   "cell_type": "code",
   "execution_count": 4,
   "metadata": {},
   "outputs": [],
   "source": [
    "from get_station_csv import get_final_station_data\n",
    "from sort_by_week_day import sort_all_days\n",
    "from h4_chunks_in_py import entries_exits_in_4h_chunks"
   ]
  },
  {
   "cell_type": "markdown",
   "metadata": {},
   "source": [
    "We scrape the most recent week's data for this requested station..."
   ]
  },
  {
   "cell_type": "code",
   "execution_count": 5,
   "metadata": {},
   "outputs": [],
   "source": [
    "get_final_station_data(1, station, trainline)"
   ]
  },
  {
   "cell_type": "markdown",
   "metadata": {},
   "source": [
    "...then sort that data by weekday and create individual csv files."
   ]
  },
  {
   "cell_type": "code",
   "execution_count": 6,
   "metadata": {},
   "outputs": [],
   "source": [
    "sort_all_days(station)"
   ]
  },
  {
   "cell_type": "markdown",
   "metadata": {},
   "source": [
    "**The meat and potatoes** _the algorithm_\n",
    "\n",
    "\n"
   ]
  },
  {
   "cell_type": "markdown",
   "metadata": {},
   "source": [
    "If the user's requested day is a work day, the prediction will be based on average crowd size across all work days from the previous week during the requested time window. This mitigates the impact of anomolies from the previous week on the prediction. \n",
    "\n",
    "If the user requests info for a Saturday or Sunday, we look specifically at the previous Saturday or Sunday. This is because the MTA runs fewer trains on Sundays than other days of the week."
   ]
  },
  {
   "cell_type": "code",
   "execution_count": 7,
   "metadata": {},
   "outputs": [],
   "source": [
    "requestedDay = date.weekday()\n",
    "weekDays = (\"Mon\",\"Tue\",\"Wed\",\"Thu\",\"Fri\",\"Sat\",\"Sun\")"
   ]
  },
  {
   "cell_type": "code",
   "execution_count": 12,
   "metadata": {},
   "outputs": [
    {
     "name": "stdout",
     "output_type": "stream",
     "text": [
      "from  01:00:00 to  05:00:00 ent: 0\n",
      "from  01:00:00 to  05:00:00 exit: 0\n",
      "from  05:00:00 to  09:00:00 ent: 0\n",
      "from  05:00:00 to  09:00:00 exit: 0\n",
      "from  09:00:00 to  13:00:00 ent: 0\n",
      "from  09:00:00 to  13:00:00 exit: 0\n",
      "from  13:00:00 to  17:00:00 ent: 0\n",
      "from  13:00:00 to  17:00:00 exit: 0\n",
      "from  17:00:00 to  21:00:00 ent: 0\n",
      "from  17:00:00 to  21:00:00 exit: 0\n",
      "from  21:00:00 to  01:00:00 ent: 0\n",
      "from  21:00:00 to  01:00:00 exit: 0\n"
     ]
    }
   ],
   "source": [
    "if(requestedDay <= 4): #is a work day\n",
    "    for i in range (0,5):\n",
    "        filename = weekDays[i]\n",
    "        entries_exits_in_4h_chunks(filename,False)\n",
    "        #get value do math\n",
    "        \n",
    "else: #is weekend\n",
    "    filename = weekDays[requestedDay]\n",
    "    entries_exits_in_4h_chunks(filename,False)"
   ]
  },
  {
   "cell_type": "markdown",
   "metadata": {},
   "source": [
    "we will do:\n",
    "\n",
    "totalEntries = get total station entries in that time chunk\n",
    "entriesPerPlatform = totalEntries / # of platforms\n",
    "\n",
    "trainsPerPlatform  = a list of the number of trains arriving to each relavent platform in the time window\n",
    "\n",
    "we do entriesPerPlatform / trainsPerPlatform\n",
    "to get a list of max crowd size for each platform\n",
    "\n",
    "**tells the user how large, on average, crowd size becomes before the train arrives.** \n"
   ]
  }
 ],
 "metadata": {
  "kernelspec": {
   "display_name": "Python 3",
   "language": "python",
   "name": "python3"
  },
  "language_info": {
   "codemirror_mode": {
    "name": "ipython",
    "version": 3
   },
   "file_extension": ".py",
   "mimetype": "text/x-python",
   "name": "python",
   "nbconvert_exporter": "python",
   "pygments_lexer": "ipython3",
   "version": "3.7.4"
  }
 },
 "nbformat": 4,
 "nbformat_minor": 2
}
