{
 "cells": [
  {
   "cell_type": "markdown",
   "metadata": {},
   "source": [
    "# Stay Subway Safe\n",
    "\n",
    "## Front End - Interface\n",
    "To interact with our wireframe (made with JustInMind), click here: https://www.justinmind.com/usernote/tests/47687661/47738106/47746104/index.html\n",
    "\n",
    "## Backend, with logic explanations"
   ]
  },
  {
   "cell_type": "markdown",
   "metadata": {},
   "source": [
    "### User input\n",
    "These variable are defined by user input, as depicted in wireframe.\n",
    "\n",
    "For this demonstration, values are hard coded and we assume the user wants to know what is happening NOW."
   ]
  },
  {
   "cell_type": "code",
   "execution_count": 1,
   "metadata": {},
   "outputs": [],
   "source": [
    "from datetime import datetime\n",
    "import numpy as np"
   ]
  },
  {
   "cell_type": "code",
   "execution_count": 2,
   "metadata": {},
   "outputs": [],
   "source": [
    "station = \"96 ST\"\n",
    "trainline = \"1\"\n",
    "date = datetime.date(datetime.now())\n",
    "time = datetime.time(datetime.now())"
   ]
  },
  {
   "cell_type": "markdown",
   "metadata": {},
   "source": [
    "### Gather necessary data to fulfill request"
   ]
  },
  {
   "cell_type": "code",
   "execution_count": 3,
   "metadata": {},
   "outputs": [],
   "source": [
    "import os\n",
    "import sys\n",
    "sys.path.insert(0, os.path.abspath(r'C:\\Users\\Raayan\\Documents\\Github\\MassTransit'))"
   ]
  },
  {
   "cell_type": "code",
   "execution_count": 4,
   "metadata": {},
   "outputs": [],
   "source": [
    "from get_station_csv import get_final_station_data\n",
    "from sort_by_week_day import sort_all_days\n",
    "from h4_chunks_in_py import entries_exits_in_4h_chunks"
   ]
  },
  {
   "cell_type": "markdown",
   "metadata": {},
   "source": [
    "We scrape the most recent week's data for this requested station..."
   ]
  },
  {
   "cell_type": "code",
   "execution_count": 8,
   "metadata": {},
   "outputs": [],
   "source": [
    "get_final_station_data(1, station, trainline)"
   ]
  },
  {
   "cell_type": "markdown",
   "metadata": {},
   "source": [
    "...then sort that data by day of the week and create individual csv files."
   ]
  },
  {
   "cell_type": "code",
   "execution_count": 9,
   "metadata": {},
   "outputs": [],
   "source": [
    "sort_all_days(station)"
   ]
  },
  {
   "cell_type": "markdown",
   "metadata": {},
   "source": [
    "If the user's requested day is a weekday, the prediction will be based on average crowd size across all weekdays from the previous week during the requested time window. This mitigates the impact of anomolies from the previous week on the prediction. \n",
    "\n",
    "If the user requests info for a Saturday or Sunday, we look specifically at the previous Saturday or Sunday. This is because the MTA runs fewer trains on Sundays than other days of the week, and ridership differs significantly on each of these days."
   ]
  },
  {
   "cell_type": "code",
   "execution_count": 10,
   "metadata": {},
   "outputs": [],
   "source": [
    "requestedDay = date.weekday()\n",
    "weekDays = (\"Mon\",\"Tue\",\"Wed\",\"Thu\",\"Fri\",\"Sat\",\"Sun\")"
   ]
  },
  {
   "cell_type": "markdown",
   "metadata": {},
   "source": [
    "We use our other modules to get the number of train arrivals and number of turnstile entries per hour.\n",
    "\n",
    "Train arrivals are specific to the day of the week but not the date. we will get this value now so that we don't have to call it multiple times in the loop below. However, turnstile entries are date specific, so we will call when we need it."
   ]
  },
  {
   "cell_type": "code",
   "execution_count": 11,
   "metadata": {},
   "outputs": [],
   "source": [
    "from train_info_from_schedule import single_frequency\n",
    "from entries_exits import get_entry_exit_given_hour"
   ]
  },
  {
   "cell_type": "code",
   "execution_count": 13,
   "metadata": {},
   "outputs": [
    {
     "data": {
      "text/plain": [
       "array([27, 25], dtype=int64)"
      ]
     },
     "execution_count": 13,
     "metadata": {},
     "output_type": "execute_result"
    }
   ],
   "source": [
    "stops_path = r'C:\\Users\\Raayan\\Documents\\Github\\MassTransit\\google_transit\\stop_times.txt'\n",
    "trips_path = r'C:\\Users\\Raayan\\Documents\\Github\\MassTransit\\google_transit\\trips.txt'\n",
    "stop_id = \"120\" #HARDCODED for 96th, our pilot\n",
    "\n",
    "#train schedule is recorded only between 6 am ('06') and 11 pm ('23') to make room for cleaning\n",
    "#also, time needs to be formatted to have 2 digits\n",
    "hourINT = time.hour\n",
    "if (hourINT < 6):\n",
    "    hour = \"06\"\n",
    "elif (hourINT > 23):\n",
    "    hour = \"23\"\n",
    "elif (hourINT < 10):\n",
    "    hour = \"0\" + str(hourINT)\n",
    "else:\n",
    "    hour = str(hourINT)\n",
    "\n",
    "#train schedule data is split into weekday, Saturday, Sunday\n",
    "if(requestedDay <= 4):\n",
    "    day_type = \"Weekday\"\n",
    "elif(requestedDay == 5):\n",
    "    day_type = \"Saturday\"\n",
    "else:\n",
    "    day_type = \"Sunday\"\n",
    "\n",
    "\n",
    "\n",
    "northTrains = single_frequency(stops_path,trips_path,stop_id,hour,day_type,\"Northbound\")\n",
    "southTrains = single_frequency(stops_path,trips_path,stop_id,hour,day_type,\"Southbound\")\n",
    "\n",
    "trainsPerPlatform = np.array([northTrains, southTrains])\n",
    "trainsPerPlatform"
   ]
  },
  {
   "cell_type": "markdown",
   "metadata": {},
   "source": [
    "reformat time as needed to get turnstile entry information\n",
    "\n",
    "time_input should be in 24 hr hh:mm "
   ]
  },
  {
   "cell_type": "code",
   "execution_count": 14,
   "metadata": {},
   "outputs": [],
   "source": [
    "mins = str(time.minute)\n",
    "if(len(mins) == 1):\n",
    "    mins = \"0\" + mins\n",
    "\n",
    "time_input = hour + \":\" + mins\n",
    "\n",
    "#our turnstile data is available from 06:00 - 20:59\n",
    "#we already account for 06:00 bound above, we need to now account for 20:59 bound here.\n",
    "if(hourINT > 20):\n",
    "    time_input = \"20:59\""
   ]
  },
  {
   "cell_type": "markdown",
   "metadata": {},
   "source": [
    "### The meat and potatoes: The Algorithm\n",
    "\n",
    "1) totalEntries = get total station entries in that time chunk\n",
    "\n",
    "2) entriesPerPlatform = totalEntries / # of platforms\n",
    "\n",
    "3) trainsPerPlatform = a list of the number of trains arriving to each relavent platform in the time window\n",
    "\n",
    "4) predictedCrowds = entriesPerPlatform / trainsPerPlatform \n",
    "    a list of max crowd size for each platform\n",
    "    \n",
    "5) return predictedCrowds to interface\n",
    "\n",
    "This algorithm tells the user how large, on average, crowd size becomes before the train arrives.\n"
   ]
  },
  {
   "cell_type": "markdown",
   "metadata": {},
   "source": [
    "96th street has 2 in service island platforms https://en.wikipedia.org/wiki/96th_Street_station_(IRT_Broadway%E2%80%93Seventh_Avenue_Line) \n",
    "We hardcode this value for the pilot program"
   ]
  },
  {
   "cell_type": "code",
   "execution_count": 15,
   "metadata": {},
   "outputs": [
    {
     "name": "stderr",
     "output_type": "stream",
     "text": [
      "C:\\Users\\Raayan\\Documents\\Github\\MassTransit\\entries_exits.py:23: SettingWithCopyWarning: \n",
      "A value is trying to be set on a copy of a slice from a DataFrame.\n",
      "Try using .loc[row_indexer,col_indexer] = value instead\n",
      "\n",
      "See the caveats in the documentation: http://pandas.pydata.org/pandas-docs/stable/user_guide/indexing.html#returning-a-view-versus-a-copy\n",
      "  item['ENTRIES']=entries\n",
      "C:\\Users\\Raayan\\Documents\\Github\\MassTransit\\entries_exits.py:26: SettingWithCopyWarning: \n",
      "A value is trying to be set on a copy of a slice from a DataFrame.\n",
      "Try using .loc[row_indexer,col_indexer] = value instead\n",
      "\n",
      "See the caveats in the documentation: http://pandas.pydata.org/pandas-docs/stable/user_guide/indexing.html#returning-a-view-versus-a-copy\n",
      "  item[item.columns[11]]=exits\n"
     ]
    }
   ],
   "source": [
    "totalEntries = 0\n",
    "totalExits = 0 #throw-away value\n",
    "predictedCrowds = np.array([0,0]) #HARDCODED for 96th. 2 platforms, 2 crowd predictions.\n",
    "\n",
    "if(requestedDay <= 4): #is a work day\n",
    "    sumCrowds = np.array([0,0]) #HARDCODED for 96\n",
    "    for i in range (0,5):\n",
    "        filename = weekDays[i] + \".csv\"\n",
    "        path = r\"C:/Users/Raayan/Documents/Github/MassTransit/\" + filename\n",
    "        totalEntries, totalExits = get_entry_exit_given_hour(path,time_input) \n",
    "        entriesPerPlatform = totalEntries / 2 #HARDCODED, num. platforms at 96th\n",
    "        \n",
    "        tempCrowds = entriesPerPlatform / trainsPerPlatform\n",
    "        sumCrowds = sumCrowds + tempCrowds\n",
    "\n",
    "    predictedCrowds = sumCrowds / 5 #avg over 5 work days\n",
    "         \n",
    "else: #is weekend\n",
    "    filename = weekDays[requestedDay] + \".csv\"\n",
    "    path = '/Users/mehrkaur/Documents/projects/subway/MassTransit/' + filename\n",
    "    totalEntries, totalExits = get_entry_exit_given_hour(path,time_input)\n",
    "    entriesPerPlatform = totalEntries / 2 #HARDCODED, num. platforms at 96th\n",
    "\n",
    "    predictedCrowds = entriesPerPlatform / trainsPerPlatform\n",
    "    "
   ]
  },
  {
   "cell_type": "code",
   "execution_count": 16,
   "metadata": {
    "scrolled": true
   },
   "outputs": [
    {
     "name": "stdout",
     "output_type": "stream",
     "text": [
      "314.75\n",
      "[6.00277778 6.483     ]\n"
     ]
    }
   ],
   "source": [
    "print(totalEntries)\n",
    "print(predictedCrowds)"
   ]
  },
  {
   "cell_type": "markdown",
   "metadata": {},
   "source": [
    "predictedCrowds is the return value of the algorithm"
   ]
  },
  {
   "cell_type": "code",
   "execution_count": 85,
   "metadata": {},
   "outputs": [],
   "source": [
    "from datetime import datetime\n",
    "import numpy as np\n",
    "import os\n",
    "import sys\n",
    "sys.path.insert(0, os.path.abspath(r'C:\\Users\\Raayan\\Documents\\Github\\MassTransit'))\n",
    "from get_station_csv import get_final_station_data\n",
    "from sort_by_week_day import sort_all_days\n",
    "from h4_chunks_in_py import entries_exits_in_4h_chunks\n",
    "from train_info_from_schedule import single_frequency\n",
    "from entries_exits import get_entry_exit_given_hour\n",
    "\n",
    "\n",
    "#stop_id is 120 for 96th Street, 117 for 116th Street - both on the 1 line\n",
    "def get_crowds(date,time,stop_id):\n",
    "    requestedDay = date.weekday()\n",
    "    weekDays = (\"Mon\",\"Tue\",\"Wed\",\"Thu\",\"Fri\",\"Sat\",\"Sun\")\n",
    "    stops_path = r'C:\\Users\\Raayan\\Documents\\Github\\MassTransit\\google_transit\\stop_times.txt'\n",
    "    trips_path = r'C:\\Users\\Raayan\\Documents\\Github\\MassTransit\\google_transit\\trips.txt'\n",
    "    #stop_id = \"117\" #HARDCODED for 96th, our pilot\n",
    "    \n",
    "    #train schedule is recorded only between 6 am ('06') and 11 pm ('23') to make room for cleaning\n",
    "    #also, time needs to be formatted to have 2 digits\n",
    "    hourINT = time.hour\n",
    "    if (hourINT < 6):\n",
    "        hour = \"06\"\n",
    "    elif (hourINT > 23):\n",
    "        hour = \"23\"\n",
    "    elif (hourINT < 10):\n",
    "        hour = \"0\" + str(hourINT)\n",
    "    else:\n",
    "        hour = str(hourINT)\n",
    "\n",
    "    #train schedule data is split into weekday, Saturday, Sunday\n",
    "    if(requestedDay <= 4):\n",
    "        day_type = \"Weekday\"\n",
    "    elif(requestedDay == 5):\n",
    "        day_type = \"Saturday\"\n",
    "    else:\n",
    "        day_type = \"Sunday\"\n",
    "\n",
    "    northTrains = single_frequency(stops_path,trips_path,stop_id,hour,day_type,\"Northbound\")\n",
    "    southTrains = single_frequency(stops_path,trips_path,stop_id,hour,day_type,\"Southbound\")\n",
    "    trainsPerPlatform = np.array([northTrains, southTrains])\n",
    "    mins = str(time.minute)\n",
    "    if(len(mins) == 1):\n",
    "        mins = \"0\" + mins\n",
    "\n",
    "    time_input = hour + \":\" + mins\n",
    "\n",
    "    #our turnstile data is available from 06:00 - 20:59\n",
    "    #we already account for 06:00 bound above, we need to now account for 20:59 bound here.\n",
    "    if(hourINT > 20):\n",
    "        time_input = \"20:59\"\n",
    "        \n",
    "    totalEntries = 0\n",
    "    totalExits = 0 #throw-away value\n",
    "    predictedCrowds = np.array([0,0]) #HARDCODED for 96th. 2 platforms, 2 crowd predictions.\n",
    "\n",
    "    if(requestedDay <= 4): #is a work day\n",
    "        sumCrowds = np.array([0,0]) #HARDCODED for 96\n",
    "        for i in range (0,5):\n",
    "            filename = weekDays[i] + \".csv\"\n",
    "            path = r\"C:/Users/Raayan/Documents/Github/MassTransit/\" + filename\n",
    "            totalEntries, totalExits = get_entry_exit_given_hour(path,time_input) \n",
    "            entriesPerPlatform = totalEntries / 2 #HARDCODED, num. platforms at 96th\n",
    "\n",
    "            tempCrowds = entriesPerPlatform / trainsPerPlatform\n",
    "            sumCrowds = sumCrowds + tempCrowds\n",
    "\n",
    "        predictedCrowds = sumCrowds / 5 #avg over 5 work days\n",
    "\n",
    "    else: #is weekend\n",
    "        filename = weekDays[requestedDay] + \".csv\"\n",
    "        path = r\"C:/Users/Raayan/Documents/Github/MassTransit/\" + filename\n",
    "        totalEntries, totalExits = get_entry_exit_given_hour(path,time_input)\n",
    "        entriesPerPlatform = totalEntries / 2 #HARDCODED, num. platforms at 96th\n",
    "\n",
    "        predictedCrowds = entriesPerPlatform / trainsPerPlatform\n",
    "    \n",
    "    return totalEntries, predictedCrowds"
   ]
  },
  {
   "cell_type": "code",
   "execution_count": 54,
   "metadata": {},
   "outputs": [],
   "source": [
    "get_final_station_data(1, station, trainline)\n",
    "sort_all_days(station)"
   ]
  },
  {
   "cell_type": "code",
   "execution_count": 61,
   "metadata": {},
   "outputs": [
    {
     "name": "stderr",
     "output_type": "stream",
     "text": [
      "C:\\Users\\Raayan\\Documents\\Github\\MassTransit\\train_info_from_schedule.py:67: SettingWithCopyWarning: \n",
      "A value is trying to be set on a copy of a slice from a DataFrame\n",
      "\n",
      "See the caveats in the documentation: http://pandas.pydata.org/pandas-docs/stable/user_guide/indexing.html#returning-a-view-versus-a-copy\n",
      "  source['hour_of_day'][item]=source['arrival_time'][item][:2]\n",
      "C:\\Users\\Raayan\\Documents\\Github\\MassTransit\\entries_exits.py:23: SettingWithCopyWarning: \n",
      "A value is trying to be set on a copy of a slice from a DataFrame.\n",
      "Try using .loc[row_indexer,col_indexer] = value instead\n",
      "\n",
      "See the caveats in the documentation: http://pandas.pydata.org/pandas-docs/stable/user_guide/indexing.html#returning-a-view-versus-a-copy\n",
      "  item['ENTRIES']=entries\n",
      "C:\\Users\\Raayan\\Documents\\Github\\MassTransit\\entries_exits.py:26: SettingWithCopyWarning: \n",
      "A value is trying to be set on a copy of a slice from a DataFrame.\n",
      "Try using .loc[row_indexer,col_indexer] = value instead\n",
      "\n",
      "See the caveats in the documentation: http://pandas.pydata.org/pandas-docs/stable/user_guide/indexing.html#returning-a-view-versus-a-copy\n",
      "  item[item.columns[11]]=exits\n"
     ]
    }
   ],
   "source": [
    "#Weekday 96th\n",
    "from datetime import time\n",
    "time1=time(6,0,0)\n",
    "time_list=[]\n",
    "time_list.append(time1)\n",
    "for i in range(1,15):\n",
    "    time_list.append(time(6+i,0,0))\n",
    "weekday_crowds=[get_crowds(date,time,'120') for time in time_list]"
   ]
  },
  {
   "cell_type": "code",
   "execution_count": 60,
   "metadata": {},
   "outputs": [],
   "source": [
    "import matplotlib.pyplot as plt\n",
    "%matplotlib inline"
   ]
  },
  {
   "cell_type": "code",
   "execution_count": 78,
   "metadata": {},
   "outputs": [
    {
     "data": {
      "text/plain": [
       "[<matplotlib.lines.Line2D at 0x1dc2f914208>]"
      ]
     },
     "execution_count": 78,
     "metadata": {},
     "output_type": "execute_result"
    },
    {
     "data": {
      "image/png": "[encoded data removed]",
      "text/plain": [
       "<Figure size 432x288 with 1 Axes>"
      ]
     },
     "metadata": {
      "needs_background": "light"
     },
     "output_type": "display_data"
    }
   ],
   "source": [
    "#Weekday forecasts for 96th Street station\n",
    "entry_forecasts=[]\n",
    "northbound_forecasts=[]\n",
    "southbound_forecasts=[]\n",
    "for item in weekday_crowds:\n",
    "    entry_forecasts.append(item[0])\n",
    "    northbound_forecasts.append(item[1][0])\n",
    "    southbound_forecasts.append(item[1][1])\n",
    "x_axis=[6,7,8,9,10,11,12,13,14,15,16,17,18,19,20]\n",
    "plt.plot(x_axis,northbound_forecasts)\n",
    "plt.plot(x_axis,southbound_forecasts)"
   ]
  },
  {
   "cell_type": "code",
   "execution_count": 81,
   "metadata": {},
   "outputs": [],
   "source": [
    "#Sunday\n",
    "from datetime import date,time\n",
    "time1=time(6,0,0)\n",
    "time_list=[]\n",
    "time_list.append(time1)\n",
    "for i in range(1,15):\n",
    "    time_list.append(time(6+i,0,0))\n",
    "date=date(2020,7,26)\n",
    "sunday_crowds=[get_crowds(date,time,'120') for time in time_list]"
   ]
  },
  {
   "cell_type": "code",
   "execution_count": 82,
   "metadata": {},
   "outputs": [
    {
     "data": {
      "text/plain": [
       "[<matplotlib.lines.Line2D at 0x1dc30399dc8>]"
      ]
     },
     "execution_count": 82,
     "metadata": {},
     "output_type": "execute_result"
    },
    {
     "data": {
      "image/png": "[encoded data removed]",
      "text/plain": [
       "<Figure size 432x288 with 1 Axes>"
      ]
     },
     "metadata": {
      "needs_background": "light"
     },
     "output_type": "display_data"
    }
   ],
   "source": [
    "#Sunday forecasts for 96th street station\n",
    "entry_forecasts=[]\n",
    "northbound_forecasts=[]\n",
    "southbound_forecasts=[]\n",
    "for item in sunday_crowds:\n",
    "    entry_forecasts.append(item[0])\n",
    "    northbound_forecasts.append(item[1][0])\n",
    "    southbound_forecasts.append(item[1][1])\n",
    "x_axis=[6,7,8,9,10,11,12,13,14,15,16,17,18,19,20]\n",
    "plt.plot(x_axis,northbound_forecasts)\n",
    "plt.plot(x_axis,southbound_forecasts)"
   ]
  },
  {
   "cell_type": "code",
   "execution_count": 83,
   "metadata": {},
   "outputs": [],
   "source": [
    "#Saturday\n",
    "from datetime import date,time\n",
    "time1=time(6,0,0)\n",
    "time_list=[]\n",
    "time_list.append(time1)\n",
    "for i in range(1,15):\n",
    "    time_list.append(time(6+i,0,0))\n",
    "date=date(2020,7,25)\n",
    "saturday_crowds=[get_crowds(date,time,'120') for time in time_list]"
   ]
  },
  {
   "cell_type": "code",
   "execution_count": 84,
   "metadata": {
    "scrolled": false
   },
   "outputs": [
    {
     "data": {
      "text/plain": [
       "[<matplotlib.lines.Line2D at 0x1dc2ff731c8>]"
      ]
     },
     "execution_count": 84,
     "metadata": {},
     "output_type": "execute_result"
    },
    {
     "data": {
      "image/png": "[encoded data removed]",
      "text/plain": [
       "<Figure size 432x288 with 1 Axes>"
      ]
     },
     "metadata": {
      "needs_background": "light"
     },
     "output_type": "display_data"
    }
   ],
   "source": [
    "#Saturday forecasts for 96th street station\n",
    "entry_forecasts=[]\n",
    "northbound_forecasts=[]\n",
    "southbound_forecasts=[]\n",
    "for item in saturday_crowds:\n",
    "    entry_forecasts.append(item[0])\n",
    "    northbound_forecasts.append(item[1][0])\n",
    "    southbound_forecasts.append(item[1][1])\n",
    "x_axis=[6,7,8,9,10,11,12,13,14,15,16,17,18,19,20]\n",
    "plt.plot(x_axis,northbound_forecasts)\n",
    "plt.plot(x_axis,southbound_forecasts)"
   ]
  },
  {
   "cell_type": "code",
   "execution_count": 91,
   "metadata": {},
   "outputs": [],
   "source": [
    "get_final_station_data(1, '116 ST-COLUMBIA', '1')\n",
    "sort_all_days('116 ST-COLUMBIA')"
   ]
  },
  {
   "cell_type": "code",
   "execution_count": 92,
   "metadata": {},
   "outputs": [
    {
     "data": {
      "text/plain": [
       "[<matplotlib.lines.Line2D at 0x1dc2f943508>]"
      ]
     },
     "execution_count": 92,
     "metadata": {},
     "output_type": "execute_result"
    },
    {
     "data": {
      "image/png": "[encoded data removed]",
      "text/plain": [
       "<Figure size 432x288 with 1 Axes>"
      ]
     },
     "metadata": {
      "needs_background": "light"
     },
     "output_type": "display_data"
    }
   ],
   "source": [
    "#Weekday, 116th Street\n",
    "from datetime import date,time\n",
    "time1=time(6,0,0)\n",
    "time_list=[]\n",
    "time_list.append(time1)\n",
    "for i in range(1,15):\n",
    "    time_list.append(time(6+i,0,0))\n",
    "date=datetime.date(datetime.now())\n",
    "weekday_crowds=[get_crowds(date,time,'117') for time in time_list]\n",
    "#Weekday for 116th street station\n",
    "entry_forecasts=[]\n",
    "northbound_forecasts=[]\n",
    "southbound_forecasts=[]\n",
    "for item in weekday_crowds:\n",
    "    entry_forecasts.append(item[0])\n",
    "    northbound_forecasts.append(item[1][0])\n",
    "    southbound_forecasts.append(item[1][1])\n",
    "x_axis=[6,7,8,9,10,11,12,13,14,15,16,17,18,19,20]\n",
    "plt.plot(x_axis,northbound_forecasts)\n",
    "plt.plot(x_axis,southbound_forecasts)"
   ]
  },
  {
   "cell_type": "code",
   "execution_count": null,
   "metadata": {},
   "outputs": [],
   "source": [
    "#Sunday, 116th Street\n",
    "from datetime import date,time\n",
    "time1=time(6,0,0)\n",
    "time_list=[]\n",
    "time_list.append(time1)\n",
    "for i in range(1,15):\n",
    "    time_list.append(time(6+i,0,0))\n",
    "date=date(2020,7,26)\n",
    "sunday_crowds=[get_crowds(date,time,'117') for time in time_list]\n",
    "#Weekday for 116th street station\n",
    "entry_forecasts=[]\n",
    "northbound_forecasts=[]\n",
    "southbound_forecasts=[]\n",
    "for item in sunday_crowds:\n",
    "    entry_forecasts.append(item[0])\n",
    "    northbound_forecasts.append(item[1][0])\n",
    "    southbound_forecasts.append(item[1][1])\n",
    "x_axis=[6,7,8,9,10,11,12,13,14,15,16,17,18,19,20]\n",
    "plt.plot(x_axis,northbound_forecasts)\n",
    "plt.plot(x_axis,southbound_forecasts)"
   ]
  },
  {
   "cell_type": "code",
   "execution_count": null,
   "metadata": {},
   "outputs": [],
   "source": [
    "#Saturday, 116th Street\n",
    "from datetime import date,time\n",
    "time1=time(6,0,0)\n",
    "time_list=[]\n",
    "time_list.append(time1)\n",
    "for i in range(1,15):\n",
    "    time_list.append(time(6+i,0,0))\n",
    "date=date(2020,7,25)\n",
    "sunday_crowds=[get_crowds(date,time,'117') for time in time_list]\n",
    "#Weekday for 116th street station\n",
    "entry_forecasts=[]\n",
    "northbound_forecasts=[]\n",
    "southbound_forecasts=[]\n",
    "for item in saturday_crowds:\n",
    "    entry_forecasts.append(item[0])\n",
    "    northbound_forecasts.append(item[1][0])\n",
    "    southbound_forecasts.append(item[1][1])\n",
    "x_axis=[6,7,8,9,10,11,12,13,14,15,16,17,18,19,20]\n",
    "plt.plot(x_axis,northbound_forecasts)\n",
    "plt.plot(x_axis,southbound_forecasts)"
   ]
  },
  {
   "cell_type": "markdown",
   "metadata": {},
   "source": [
    "### Grader\n",
    "Color codes the returned crowd size depending on the size of the selected platforms."
   ]
  },
  {
   "cell_type": "code",
   "execution_count": 14,
   "metadata": {},
   "outputs": [
    {
     "ename": "ValueError",
     "evalue": "The truth value of an array with more than one element is ambiguous. Use a.any() or a.all()",
     "output_type": "error",
     "traceback": [
      "\u001b[0;31m---------------------------------------------------------------------------\u001b[0m",
      "\u001b[0;31mValueError\u001b[0m                                Traceback (most recent call last)",
      "\u001b[0;32m<ipython-input-14-df93a402dec2>\u001b[0m in \u001b[0;36m<module>\u001b[0;34m\u001b[0m\n\u001b[1;32m      2\u001b[0m \u001b[0mplatformDensities\u001b[0m \u001b[0;34m=\u001b[0m \u001b[0mnp\u001b[0m\u001b[0;34m.\u001b[0m\u001b[0marray\u001b[0m\u001b[0;34m(\u001b[0m\u001b[0;34m[\u001b[0m\u001b[0;36m0\u001b[0m\u001b[0;34m,\u001b[0m\u001b[0;36m0\u001b[0m\u001b[0;34m]\u001b[0m\u001b[0;34m)\u001b[0m\u001b[0;34m\u001b[0m\u001b[0;34m\u001b[0m\u001b[0m\n\u001b[1;32m      3\u001b[0m \u001b[0mplatformSize\u001b[0m \u001b[0;34m=\u001b[0m \u001b[0;34m(\u001b[0m\u001b[0;36m500\u001b[0m\u001b[0;34m*\u001b[0m\u001b[0;36m5\u001b[0m\u001b[0;34m)\u001b[0m\u001b[0;34m\u001b[0m\u001b[0;34m\u001b[0m\u001b[0m\n\u001b[0;32m----> 4\u001b[0;31m \u001b[0;32mif\u001b[0m \u001b[0mpredictedCrowds\u001b[0m\u001b[0;34m:\u001b[0m\u001b[0;34m\u001b[0m\u001b[0;34m\u001b[0m\u001b[0m\n\u001b[0m\u001b[1;32m      5\u001b[0m     \u001b[0mlength\u001b[0m \u001b[0;34m=\u001b[0m \u001b[0mlen\u001b[0m\u001b[0;34m(\u001b[0m\u001b[0mpredictedCrowds\u001b[0m\u001b[0;34m)\u001b[0m\u001b[0;34m\u001b[0m\u001b[0;34m\u001b[0m\u001b[0m\n\u001b[1;32m      6\u001b[0m     \u001b[0mplatformDensities\u001b[0m \u001b[0;34m=\u001b[0m \u001b[0mnp\u001b[0m\u001b[0;34m.\u001b[0m\u001b[0marray\u001b[0m\u001b[0;34m(\u001b[0m\u001b[0mlength\u001b[0m\u001b[0;34m)\u001b[0m\u001b[0;34m\u001b[0m\u001b[0;34m\u001b[0m\u001b[0m\n",
      "\u001b[0;31mValueError\u001b[0m: The truth value of an array with more than one element is ambiguous. Use a.any() or a.all()"
     ]
    }
   ],
   "source": [
    "#in progress - Andrew\n",
    "platformDensities = np.array([0,0])\n",
    "platform_length = 510\n",
    "platform_width = 12.5\n",
    "platform_size = platform_length * platform_width\n",
    "if predictedCrowds:\n",
    "    length = len(predictedCrowds)\n",
    "    platformDensities = np.array(length)\n",
    "    for i in length:\n",
    "        if predictedCrowds[i]: density = predictedCrowds[i] / platform_size\n",
    "        else: density = 0\n",
    "        platformDensities[i] = density\n",
    "else: platformDensities = predictedCrowds\n",
    "\n",
    "platformGrades = np.array([\"\",\"\"])\n",
    "green = 0.05\n",
    "yellow = 0.1\n",
    "orange = 0.25\n",
    "if platformDensities:\n",
    "    length = len(platformDensities)\n",
    "    platformGrades = np.array(length)\n",
    "    for i in length:\n",
    "        if platformDensities[i]:\n",
    "            if (platformDensities[i] < green): platformGrades[i] = \"G\"\n",
    "            elif (platformDensities[i] >= green):\n",
    "                if (platformDensities[i] >= orange): platformGrades[i] = \"R\"\n",
    "                elif (platformDensities[i] < orange): platformGrades[i] = \"Y\"\n",
    "                else: platformGrades[i] = \"O\"\n",
    "        else: platformGrades[i] = \"\"\n",
    "else: platformGrades = np.array([\"\",\"\"])"
   ]
  },
  {
   "cell_type": "markdown",
   "metadata": {},
   "source": [
    "### Vizualization"
   ]
  },
  {
   "cell_type": "markdown",
   "metadata": {},
   "source": [
    "add the heat map stuff here, including the \"over the course of the day\" visual raayan mentioned"
   ]
  },
  {
   "cell_type": "code",
   "execution_count": null,
   "metadata": {},
   "outputs": [],
   "source": []
  }
 ],
 "metadata": {
  "kernelspec": {
   "display_name": "Python 3",
   "language": "python",
   "name": "python3"
  },
  "language_info": {
   "codemirror_mode": {
    "name": "ipython",
    "version": 3
   },
   "file_extension": ".py",
   "mimetype": "text/x-python",
   "name": "python",
   "nbconvert_exporter": "python",
   "pygments_lexer": "ipython3",
   "version": "3.7.4"
  }
 },
 "nbformat": 4,
 "nbformat_minor": 2
}
