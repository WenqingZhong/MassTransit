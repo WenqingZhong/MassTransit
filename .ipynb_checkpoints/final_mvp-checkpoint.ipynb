{
 "cells": [
  {
   "cell_type": "markdown",
   "metadata": {},
   "source": [
    "# Stay Subway Safe\n",
    "\n",
    "## Front End - Interface\n",
    "To interact with our wireframe (made with JustInMind), click here: https://www.justinmind.com/usernote/tests/47687661/47738106/47746104/index.html\n",
    "\n",
    "## Backend, with logic explanations"
   ]
  },
  {
   "cell_type": "markdown",
   "metadata": {},
   "source": [
    "### User input\n",
    "These variable are defined by user input, as depicted in wireframe.\n",
    "\n",
    "For this demonstration, values are hard coded and we assume the user wants to know what is happening NOW."
   ]
  },
  {
   "cell_type": "code",
   "execution_count": 16,
   "metadata": {},
   "outputs": [],
   "source": [
    "from datetime import datetime\n",
    "import numpy as np"
   ]
  },
  {
   "cell_type": "code",
   "execution_count": 2,
   "metadata": {},
   "outputs": [],
   "source": [
    "station = \"96 ST\"\n",
    "trainline = \"1\"\n",
    "date = datetime.date(datetime.now())\n",
    "time = datetime.time(datetime.now())"
   ]
  },
  {
   "cell_type": "markdown",
   "metadata": {},
   "source": [
    "### Gather necessary data to fulfill request"
   ]
  },
  {
   "cell_type": "code",
   "execution_count": 3,
   "metadata": {},
   "outputs": [],
   "source": [
    "import os\n",
    "import sys\n",
    "sys.path.insert(0, os.path.abspath('/Users/mehrkaur/Documents/projects/subway/MassTransit'))"
   ]
  },
  {
   "cell_type": "code",
   "execution_count": 4,
   "metadata": {},
   "outputs": [],
   "source": [
    "from get_station_csv import get_final_station_data\n",
    "from sort_by_week_day import sort_all_days\n",
    "from h4_chunks_in_py import entries_exits_in_4h_chunks"
   ]
  },
  {
   "cell_type": "markdown",
   "metadata": {},
   "source": [
    "We scrape the most recent week's data for this requested station..."
   ]
  },
  {
   "cell_type": "code",
   "execution_count": 5,
   "metadata": {},
   "outputs": [],
   "source": [
    "get_final_station_data(1, station, trainline)"
   ]
  },
  {
   "cell_type": "markdown",
   "metadata": {},
   "source": [
    "...then sort that data by weekday and create individual csv files."
   ]
  },
  {
   "cell_type": "code",
   "execution_count": 6,
   "metadata": {},
   "outputs": [],
   "source": [
    "sort_all_days(station)"
   ]
  },
  {
   "cell_type": "markdown",
   "metadata": {},
   "source": [
    "### The meat and potatoes: The Algorithm\n",
    "\n",
    "1) totalEntries = get total station entries in that time chunk\n",
    "\n",
    "2) entriesPerPlatform = totalEntries / # of platforms\n",
    "\n",
    "3) trainsPerPlatform = a list of the number of trains arriving to each relavent platform in the time window\n",
    "\n",
    "4) predictedCrowds = entriesPerPlatform / trainsPerPlatform \n",
    "    a list of max crowd size for each platform\n",
    "    \n",
    "5) return predictedCrowds to interface\n",
    "\n",
    "This algorithm tells the user how large, on average, crowd size becomes before the train arrives.\n"
   ]
  },
  {
   "cell_type": "markdown",
   "metadata": {},
   "source": [
    "If the user's requested day is a work day, the prediction will be based on average crowd size across all work days from the previous week during the requested time window. This mitigates the impact of anomolies from the previous week on the prediction. \n",
    "\n",
    "If the user requests info for a Saturday or Sunday, we look specifically at the previous Saturday or Sunday. This is because the MTA runs fewer trains on Sundays than other days of the week."
   ]
  },
  {
   "cell_type": "code",
   "execution_count": 7,
   "metadata": {},
   "outputs": [],
   "source": [
    "requestedDay = date.weekday()\n",
    "weekDays = (\"Mon\",\"Tue\",\"Wed\",\"Thu\",\"Fri\",\"Sat\",\"Sun\")"
   ]
  },
  {
   "cell_type": "markdown",
   "metadata": {},
   "source": [
    "96th street has 2 in service island platforms https://en.wikipedia.org/wiki/96th_Street_station_(IRT_Broadway%E2%80%93Seventh_Avenue_Line) \n",
    "We hardcode this value for the pilot program"
   ]
  },
  {
   "cell_type": "code",
   "execution_count": 17,
   "metadata": {},
   "outputs": [],
   "source": [
    "totalEntries = 0\n",
    "trainsPerPlatform = np.array([0,0]) #HARDCODED, 2 elements for 2 platforms at 96th\n",
    "predictedCrowds = np.array([0,0]) #HARDCODED for 96th\n",
    "\n",
    "if(requestedDay <= 4): #is a work day\n",
    "    sumCrowds = np.array([0,0]) #HARDCODED for 96\n",
    "    for i in range (0,5):\n",
    "        filename = weekDays[i]\n",
    "        totalEntries = 300 #HARDCODED, NEED TO GET FROM 4 HR \n",
    "        entriesPerPlatform = totalEntries / 2 #HARDCODED, num. platforms at 96th\n",
    "        \n",
    "        trainsPerPlatform =  np.array([30,30]) #HARDCODED, NEED TO GET FROM SCHEDULE\n",
    "        tempCrowds = entriesPerPlatform / trainsPerPlatform\n",
    "        sumCrowds = sumCrowds + tempCrowds\n",
    "\n",
    "    predictedCrowds = sumCrowds / 5 #avg over 5 work days\n",
    "         \n",
    "else: #is weekend\n",
    "    filename = weekDays[requestedDay]\n",
    "    totalEntries = 300 #HARDCODED, NEED TO GET FROM 4 HR \n",
    "    entriesPerPlatform = totalEntries / 2 #HARDCODED, num. platforms at 96th\n",
    "\n",
    "    trainsPerPlatform = np.array([30,30]) #HARDCODED, NEED TO GET FROM SCHEDULE\n",
    "    \n",
    "    predictedCrowds = entriesPerPlatform / trainsPerPlatform\n",
    "    "
   ]
  },
  {
   "cell_type": "markdown",
   "metadata": {},
   "source": [
    "predictedCrowds is the return value of the algorithm"
   ]
  },
  {
   "cell_type": "markdown",
   "metadata": {},
   "source": [
    "### Grader\n",
    "Ranks the returned crowd sizes into red, yellow, or green depending on the size of the selected platforms."
   ]
  },
  {
   "cell_type": "code",
   "execution_count": 14,
   "metadata": {},
   "outputs": [],
   "source": [
    "#in progress- Andrew\n",
    "platformDensities = np.array([0,0])\n",
    "platformSize = (500*5)\n",
    "if predictedCrowds:\n",
    "    length = len(predictedCrowds)\n",
    "    platformDensities = np.array(length)\n",
    "    for i in length:\n",
    "        if predictedCrowds[i]: density = predictedCrowds[i] / platformSize\n",
    "        else: density = 0\n",
    "        platformDensities[i] = density\n",
    "else: platformDensities = predictedCrowds\n",
    "\n",
    "platformGrades = np.array([\"\",\"\"])\n",
    "green = 0.04\n",
    "yellow = 0.1\n",
    "if platformDensities:\n",
    "    length = len(platformDensities)\n",
    "    platformGrades = np.array(length)\n",
    "    for i in length:\n",
    "        if platformDensities[i]:\n",
    "            if (platformDensities[i] < green): platformGrades[i] = \"G\"\n",
    "            elif (platformDensities[i] > yellow): platformGrades[i] = \"R\"\n",
    "            else: platformGrades[i] = \"Y\"\n",
    "        else: platformGrades[i] = \"\"\n",
    "else: platformGrades = np.array([\"\",\"\"])"
   ]
  },
  {
   "cell_type": "markdown",
   "metadata": {},
   "source": [
    "***"
   ]
  },
  {
   "cell_type": "code",
   "execution_count": 12,
   "metadata": {},
   "outputs": [
    {
     "name": "stdout",
     "output_type": "stream",
     "text": [
      "from  01:00:00 to  05:00:00 ent: 0\n",
      "from  01:00:00 to  05:00:00 exit: 0\n",
      "from  05:00:00 to  09:00:00 ent: 0\n",
      "from  05:00:00 to  09:00:00 exit: 0\n",
      "from  09:00:00 to  13:00:00 ent: 0\n",
      "from  09:00:00 to  13:00:00 exit: 0\n",
      "from  13:00:00 to  17:00:00 ent: 0\n",
      "from  13:00:00 to  17:00:00 exit: 0\n",
      "from  17:00:00 to  21:00:00 ent: 0\n",
      "from  17:00:00 to  21:00:00 exit: 0\n",
      "from  21:00:00 to  01:00:00 ent: 0\n",
      "from  21:00:00 to  01:00:00 exit: 0\n"
     ]
    }
   ],
   "source": [
    "\"\"\"if(requestedDay <= 4): #is a work day\n",
    "    for i in range (0,5):\n",
    "        filename = weekDays[i]\n",
    "        entries_exits_in_4h_chunks(filename,False)\n",
    "        #get value do math\n",
    "        \n",
    "else: #is weekend\n",
    "    filename = weekDays[requestedDay]\n",
    "    entries_exits_in_4h_chunks(filename,False)\"\"\""
   ]
  }
 ],
 "metadata": {
  "kernelspec": {
   "display_name": "Python 3",
   "language": "python",
   "name": "python3"
  },
  "language_info": {
   "codemirror_mode": {
    "name": "ipython",
    "version": 3
   },
   "file_extension": ".py",
   "mimetype": "text/x-python",
   "name": "python",
   "nbconvert_exporter": "python",
   "pygments_lexer": "ipython3",
   "version": "3.7.4"
  }
 },
 "nbformat": 4,
 "nbformat_minor": 2
}
