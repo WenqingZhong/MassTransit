{
 "cells": [
  {
   "cell_type": "markdown",
   "metadata": {},
   "source": [
    "Instructions for running the below code: Go to the following website: http://web.mta.info/developers/developer-data-terms.html#data <br>\n",
    "Accept the terms and conditions, and you will get to a new page with data feeds. Scroll to the Static Data Feeds, and under GTFS, click on and download the link titled 'New York City Transit Subway'. This zip file will have three useful files: <br>\n",
    "1) stops.txt will list the stop_id for every station on the line. Use this to come up with the appropriate stop_id. <br>\n",
    "2) stop_times.txt lists the time each scheduled trip is set to stop at each stop in the system. Use the path to this file as stops_path in the below code. <br>\n",
    "3) trips.txt lists the route_id that corresponds to each trip. Use the path to this file as trips_path in the below code. <br>\n",
    "<br>\n",
    "Check out the example code below all the functions for sample formatting. Also, check the comments above the single_frequency function for all the formatting rules."
   ]
  },
  {
   "cell_type": "code",
   "execution_count": 1,
   "metadata": {},
   "outputs": [],
   "source": [
    "import numpy as np\n",
    "import pandas as pd\n",
    "\n",
    "#get all scheduled stops at a station with given stop_id, split by direction\n",
    "def get_station_schedule(stops_path,trips_path,stop_id):\n",
    "    master_schedule=pd.read_csv(stops_path,delimiter=',')        #read the txt file with all stops at all stations\n",
    "    trips_df=pd.read_csv(trips_path,delimiter=',')               #read the txt file with that matches trip_id to route_id\n",
    "    #match each stop at each station with a route_id using conditional join via trip_id\n",
    "    master_schedule=master_schedule.join(trips_df.set_index('trip_id'),on='trip_id')    \n",
    "    single_station_sched_N=master_schedule[master_schedule['stop_id']==stop_id+'N'] #get northbound schedule\n",
    "    single_station_sched_S=master_schedule[master_schedule['stop_id']==stop_id+'S'] #get southbound schedule\n",
    "    return [single_station_sched_N, single_station_sched_S] #return both schedules for a specific stop\n",
    "\n",
    "def sort_by_day(df):         #separate a schedule (df) by class of day (Sunday, Weekday, or Saturday trip)\n",
    "    sunday_trips=[]          #empty lists\n",
    "    weekday_trips=[]\n",
    "    saturday_trips=[]\n",
    "    for entry in df['trip_id']:       #go through each trip_id and append it to its respective list\n",
    "        if ('Sunday' in entry):\n",
    "            sunday_trips.append(entry)\n",
    "        elif ('Weekday' in entry):\n",
    "            weekday_trips.append(entry)\n",
    "        elif ('Saturday' in entry):\n",
    "            saturday_trips.append(entry)\n",
    "    sunday_schedule=df[df['trip_id'].isin(sunday_trips)]   #keep only the entries with trip_id in each respective list\n",
    "    weekday_schedule=df[df['trip_id'].isin(weekday_trips)]\n",
    "    saturday_schedule=df[df['trip_id'].isin(saturday_trips)]\n",
    "    trips={}                                #create empty dictionary\n",
    "    trips['Sunday']=sunday_schedule         #add in Sunday trips\n",
    "    trips['Weekday']=weekday_schedule       #add in Weekday trips\n",
    "    trips['Saturday']=saturday_schedule     #add in Saturday trips\n",
    "    return trips                            #get all trips by day\n",
    "\n",
    "def get_all_schedules_by_day(stops_path,trips_path,stop_id):\n",
    "    schedules=[sort_by_day(item) for item in get_station_schedule(stops_path,trips_path,stop_id)]\n",
    "    return schedules\n",
    "\n",
    "def get_day_schedules_by_direction(stops_path,trips_path,stop_id):         #call this function\n",
    "    all_schedules=get_all_schedules_by_day(stops_path,trips_path,stop_id)\n",
    "    northbound,southbound=all_schedules[0],all_schedules[1]\n",
    "    sunday_north=northbound['Sunday']\n",
    "    weekday_north=northbound['Weekday']\n",
    "    saturday_north=northbound['Saturday']\n",
    "    sunday_south=southbound['Sunday']\n",
    "    weekday_south=southbound['Weekday']\n",
    "    saturday_south=southbound['Saturday']\n",
    "    return [sunday_north,sunday_south,weekday_north,weekday_south,saturday_north,saturday_south]\n",
    "\n",
    "def get_arrivals_per_hour(source):     #use a single dataframe as input\n",
    "    ind=source.index\n",
    "    source['hour_of_day']=''\n",
    "    for item in ind:\n",
    "        if (source['arrival_time'][item][:2]>='00' and source['arrival_time'][item][:2]<='05'):\n",
    "            source=source.drop([item])         #remove the service from hours 00-05, and 24\n",
    "        elif (source['arrival_time'][item][:2]>='24'):\n",
    "            source=source.drop([item])\n",
    "        else:                                  #bucket each arrival time by hour\n",
    "            source['hour_of_day'][item]=source['arrival_time'][item][:2]\n",
    "    hours,frequencies=np.unique(source['hour_of_day'],return_counts=True)\n",
    "    return hours,frequencies\n",
    "\n",
    "def all_frequencies(stops_path,trips_path,stop_id):    #get all frequencies for all hours\n",
    "    the_schedules=get_day_schedules_by_direction(stops_path,trips_path,stop_id)\n",
    "    results=[get_arrivals_per_hour(df) for df in the_schedules]\n",
    "    buckets={}\n",
    "    buckets['Sunday']={\"Northbound\":results[0],\"Southbound\":results[1]}\n",
    "    buckets['Weekday']={\"Northbound\":results[2],\"Southbound\":results[3]}\n",
    "    buckets['Saturday']={\"Northbound\":results[4],\"Southbound\":results[5]}\n",
    "    return buckets\n",
    "\n",
    "#stop_id should be a str with only numbers, no letters to indicate direction\n",
    "#day_type should be: 'Sunday', 'Weekday', or 'Saturday'\n",
    "#direction should be: 'Northbound' or 'Southbound'\n",
    "#hour should: 06, 07, 08, 09, 10, 11, 12, 13, 14, 15, 16, 17, 18, 19, 20, 21, 22, or 23\n",
    "def single_frequency(stops_path,trips_path,stop_id,hour,day_type,direction):\n",
    "    results=all_frequencies(stops_path,trips_path,stop_id)\n",
    "    desired_array=np.array(results[day_type][direction][0])\n",
    "    hour_index=np.where(desired_array==hour)\n",
    "    frequency=results[day_type][direction][1][hour_index]\n",
    "    return frequency[0]"
   ]
  },
  {
   "cell_type": "code",
   "execution_count": 2,
   "metadata": {},
   "outputs": [
    {
     "name": "stderr",
     "output_type": "stream",
     "text": [
      "C:\\Users\\Raayan\\Anaconda2\\envs\\newPyth\\lib\\site-packages\\ipykernel_launcher.py:58: SettingWithCopyWarning: \n",
      "A value is trying to be set on a copy of a slice from a DataFrame\n",
      "\n",
      "See the caveats in the documentation: http://pandas.pydata.org/pandas-docs/stable/user_guide/indexing.html#returning-a-view-versus-a-copy\n"
     ]
    },
    {
     "data": {
      "text/plain": [
       "32"
      ]
     },
     "execution_count": 2,
     "metadata": {},
     "output_type": "execute_result"
    }
   ],
   "source": [
    "#Example for running code\n",
    "#change the path variables after downloading the files from the MTA's website\n",
    "stops_path=r\"C:\\Users\\Raayan\\Documents\\Columbia\\Summer2020\\DesignChallenge\\schedule_info\\stop_times.txt\"\n",
    "trips_path=r\"C:\\Users\\Raayan\\Documents\\Columbia\\Summer2020\\DesignChallenge\\schedule_info\\trips.txt\"\n",
    "stop_id='120'\n",
    "hour='16'\n",
    "day_type='Weekday'\n",
    "direction='Southbound'\n",
    "result=single_frequency(stops_path,trips_path,stop_id,hour,day_type,direction)\n",
    "#this is the result for the number of trains that stop at 96 street station (stop_id 120) going southbound on weekdays\n",
    "#at 4 pm (hour 16)\n",
    "result"
   ]
  },
  {
   "cell_type": "code",
   "execution_count": null,
   "metadata": {},
   "outputs": [],
   "source": []
  },
  {
   "cell_type": "code",
   "execution_count": null,
   "metadata": {},
   "outputs": [],
   "source": [
    "    "
   ]
  },
  {
   "cell_type": "code",
   "execution_count": null,
   "metadata": {},
   "outputs": [],
   "source": []
  },
  {
   "cell_type": "code",
   "execution_count": null,
   "metadata": {},
   "outputs": [],
   "source": []
  },
  {
   "cell_type": "code",
   "execution_count": null,
   "metadata": {},
   "outputs": [],
   "source": []
  },
  {
   "cell_type": "code",
   "execution_count": null,
   "metadata": {},
   "outputs": [],
   "source": []
  },
  {
   "cell_type": "code",
   "execution_count": null,
   "metadata": {
    "scrolled": true
   },
   "outputs": [],
   "source": []
  },
  {
   "cell_type": "code",
   "execution_count": 116,
   "metadata": {},
   "outputs": [],
   "source": []
  },
  {
   "cell_type": "code",
   "execution_count": null,
   "metadata": {},
   "outputs": [],
   "source": []
  },
  {
   "cell_type": "code",
   "execution_count": null,
   "metadata": {},
   "outputs": [],
   "source": []
  },
  {
   "cell_type": "code",
   "execution_count": null,
   "metadata": {},
   "outputs": [],
   "source": []
  },
  {
   "cell_type": "code",
   "execution_count": null,
   "metadata": {},
   "outputs": [],
   "source": []
  },
  {
   "cell_type": "code",
   "execution_count": null,
   "metadata": {},
   "outputs": [],
   "source": []
  },
  {
   "cell_type": "code",
   "execution_count": null,
   "metadata": {
    "scrolled": true
   },
   "outputs": [],
   "source": []
  },
  {
   "cell_type": "code",
   "execution_count": 135,
   "metadata": {
    "scrolled": true
   },
   "outputs": [
    {
     "data": {
      "text/plain": [
       "<BarContainer object of 25 artists>"
      ]
     },
     "execution_count": 135,
     "metadata": {},
     "output_type": "execute_result"
    },
    {
     "data": {
      "image/png": "[encoded data removed]",
      "text/plain": [
       "<Figure size 432x288 with 1 Axes>"
      ]
     },
     "metadata": {
      "needs_background": "light"
     },
     "output_type": "display_data"
    }
   ],
   "source": [
    "plt.bar(hours,frequencies)"
   ]
  },
  {
   "cell_type": "code",
   "execution_count": 136,
   "metadata": {},
   "outputs": [
    {
     "data": {
      "text/plain": [
       "(array(['00', '01', '02', '03', '04', '05', '06', '07', '08', '09', '10',\n",
       "        '11', '12', '13', '14', '15', '16', '17', '18', '19', '20', '21',\n",
       "        '22', '23', '24'], dtype=object),\n",
       " array([ 5,  9,  9,  9,  9, 11, 20, 19, 21, 19, 21, 19, 21, 19, 21, 19, 21,\n",
       "        19, 20, 17, 18, 17, 17, 15,  6], dtype=int64))"
      ]
     },
     "execution_count": 136,
     "metadata": {},
     "output_type": "execute_result"
    }
   ],
   "source": [
    "hours,frequencies"
   ]
  }
 ],
 "metadata": {
  "kernelspec": {
   "display_name": "Python 3",
   "language": "python",
   "name": "python3"
  },
  "language_info": {
   "codemirror_mode": {
    "name": "ipython",
    "version": 3
   },
   "file_extension": ".py",
   "mimetype": "text/x-python",
   "name": "python",
   "nbconvert_exporter": "python",
   "pygments_lexer": "ipython3",
   "version": "3.7.4"
  }
 },
 "nbformat": 4,
 "nbformat_minor": 2
}
